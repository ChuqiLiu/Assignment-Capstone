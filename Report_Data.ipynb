{
 "cells": [
  {
   "cell_type": "markdown",
   "metadata": {},
   "source": [
    "The dataset used for this project is based on car accidents that have occurred in the city of Seattle, Washington from 2004 to 2020. The dataset contains 37 independent variables and 194,673 rows. The independent variables include “INATTENTIONIND”, “WEATHER”, “ROADCOND” and other factors that would cause the accident. The dependent variable is “SEVERITYCODE” which contains numbers of “1” and “2”, they correspond to different levels of severity of car accidents. “1” represents for “Property Damage Only” and “2” means “Physical Injury”.\n",
    "In my consideration, I will drop some non-critical and indecisive attributes. The following features which I choose to remain for building model and prediction.\n",
    "1.\tINATTENTIONIND which means whether or not the driver was inattentive;\n",
    "2.\tUNDERINFL which means whether or not the driver was under the influence;\n",
    "3.\tWEATHER which represents the weather condition while the collision occurs;\n",
    "4.\tROADCOND which represents the road conditions while the collision occurs;\n",
    "5.\tLIGHTCOND which represents the light conditions while the collision occurs;\n",
    "6.\tSPEEDING which means whether the car was above the speed limit while the collision occurs.\n",
    "\n",
    "However, the existent data contains null values in some records, the data has to be preprocessed before further processing and analyzing.\n"
   ]
  },
  {
   "cell_type": "code",
   "execution_count": null,
   "metadata": {},
   "outputs": [],
   "source": []
  }
 ],
 "metadata": {
  "kernelspec": {
   "display_name": "Python 3",
   "language": "python",
   "name": "python3"
  },
  "language_info": {
   "codemirror_mode": {
    "name": "ipython",
    "version": 3
   },
   "file_extension": ".py",
   "mimetype": "text/x-python",
   "name": "python",
   "nbconvert_exporter": "python",
   "pygments_lexer": "ipython3",
   "version": "3.7.6"
  }
 },
 "nbformat": 4,
 "nbformat_minor": 4
}
